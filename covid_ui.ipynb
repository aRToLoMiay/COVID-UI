{
  "nbformat": 4,
  "nbformat_minor": 0,
  "metadata": {
    "colab": {
      "name": "covid-ui.ipynb",
      "provenance": []
    },
    "kernelspec": {
      "name": "python3",
      "display_name": "Python 3"
    },
    "language_info": {
      "name": "python"
    }
  },
  "cells": [
    {
      "cell_type": "markdown",
      "source": [
        "**Импорт необходимых библиотек.**"
      ],
      "metadata": {
        "id": "I6MX333Ye5Yx"
      }
    },
    {
      "cell_type": "code",
      "execution_count": 2,
      "metadata": {
        "id": "mm28C2GyeG71"
      },
      "outputs": [],
      "source": [
        "import numpy as np\n",
        "import matplotlib.pyplot as plt"
      ]
    },
    {
      "cell_type": "markdown",
      "source": [
        "**Функции ввода параметров из консоли.**"
      ],
      "metadata": {
        "id": "Z0mj8xUme1VL"
      }
    },
    {
      "cell_type": "code",
      "source": [
        "def get_params():\n",
        "    \"\"\"\n",
        "    Получение тестовых значений параметров алгоритма.\n",
        "\n",
        "    Output:\n",
        "    -------\n",
        "    L, K, R : array\n",
        "        Массивы параметров модели.\n",
        "    startX : array\n",
        "        Начальные данные модели.\n",
        "    n : int\n",
        "        Количество шагов.\n",
        "    \"\"\"\n",
        "    L = np.array([3.0, 4.0, 5.0], dtype=int)\n",
        "    K = np.array([0.2, 0.25, 0.35])\n",
        "    R = np.array([1.5, 1.25, 1.0])\n",
        "\n",
        "    startX = (np.arange(0, np.max(L)) + 1)**2\n",
        "    \n",
        "    n = 1000\n",
        "\n",
        "    return L, K, R, startX, n\n",
        "\n",
        "\n",
        "def read_params():\n",
        "    \"\"\"\n",
        "    Чтение параметров алгоритма из консоли.\n",
        "\n",
        "    Output:\n",
        "    -------\n",
        "    L, K, R : array\n",
        "        Массивы параметров модели.\n",
        "    startX : array\n",
        "        Начальные данные модели.\n",
        "    n : int\n",
        "        Количество шагов. \n",
        "    \"\"\"\n",
        "    print(\"Input parameters lists.\")\n",
        "    print(\"\\tInput l:\")\n",
        "    L = convert_str(input())\n",
        "    L = np.array(L, dtype=int)\n",
        "    print(\"\\tInput k:\")\n",
        "    K = convert_str(input())\n",
        "    print(\"\\tINput r:\")\n",
        "    R = convert_str(input())\n",
        "    L, K, R = params_check(L, K, R)\n",
        "\n",
        "    print(\"Input started data ({num} values):\".format(num=np.max(L)))\n",
        "    startX = convert_str(input())\n",
        "\n",
        "    print(\"Input number of steps:\")\n",
        "    n = int(input())\n",
        "\n",
        "    return L, K, R,startX, n\n",
        "\n",
        "\n",
        "def convert_str(str, delim=';'):\n",
        "    \"\"\"\n",
        "    Конвертация строки параметров в массив float.\n",
        "\n",
        "    Parameters:\n",
        "    -------\n",
        "    str : string\n",
        "        Строка с параметрами.\n",
        "    delim : string\n",
        "        Разделитель.\n",
        "\n",
        "    Output:\n",
        "    -------\n",
        "    res : array of float\n",
        "        Массив разделённых значений.\n",
        "    \"\"\"\n",
        "    ar = np.array(str.split(delim))\n",
        "    n = len(ar)\n",
        "    res = np.zeros_like(ar, dtype=float)\n",
        "    for i in range(n):\n",
        "        res[i] = float(ar[i])\n",
        "    return res\n",
        "\n",
        "\n",
        "def params_check(L, K, R):\n",
        "    \"\"\"\n",
        "    Обрезка списка параметров в случае ошибки ввода.\n",
        "\n",
        "    Parameters:\n",
        "    -------\n",
        "    L, K, R : array\n",
        "        Массивы параметров модели.\n",
        "\n",
        "    Output:\n",
        "    -------\n",
        "    L, K, R : array\n",
        "        Обрезанные с конца массивы параметров.\n",
        "    \"\"\"\n",
        "    n = min(len(L), len(K), len(R))\n",
        "    if ((n != len(L)) or (n != len(K)) or (n != len(R))):\n",
        "        print(\"WARNING! Different number of parameters. Parameters lists will cuttet for single size.\")\n",
        "    L = L[:n]\n",
        "    K = K[:n]\n",
        "    R = R[:n]\n",
        "    return L, K, R\n"
      ],
      "metadata": {
        "id": "f_bEdiDqeMF_"
      },
      "execution_count": 3,
      "outputs": []
    },
    {
      "cell_type": "markdown",
      "source": [
        "**Функции вывода результата.**"
      ],
      "metadata": {
        "id": "Ju3EwBnQevJw"
      }
    },
    {
      "cell_type": "code",
      "source": [
        "def plotting(L, K, R, X):\n",
        "    \"\"\"\n",
        "    Построение графиков построенной модели.\n",
        "    \n",
        "    Parameters:\n",
        "    -------\n",
        "    X : matrix\n",
        "        Матрица построенных значений.\n",
        "    L, K, R : array\n",
        "        Массивы параметров модели.\n",
        "    \"\"\"\n",
        "    for i in range(0, len(L)):\n",
        "        plt.plot(np.arange(0, len(X[i])), X[i])\n",
        "    plt.legend(gen_legend(L, K, R))\n",
        "    plt.show()\n",
        "\n",
        "\n",
        "def gen_legend(L, K, R):\n",
        "    \"\"\"\n",
        "    Генерация легенды для графика.\n",
        "\n",
        "    Parameters:\n",
        "    -------\n",
        "    L : array of int\n",
        "        Массив размера окна модели.\n",
        "    K, R : array of float\n",
        "        Массивы параметров модели.\n",
        "\n",
        "    Output:\n",
        "    -------\n",
        "    legend : array of string\n",
        "        Массив с легендой графика.\n",
        "    \"\"\"\n",
        "    legend = []\n",
        "    for i in range(0, len(L)):\n",
        "        legend.append(gen_signature(L[i], K[i], R[i]))\n",
        "    return legend\n",
        "\n",
        "\n",
        "def gen_signature(l, k, r):\n",
        "    \"\"\"\n",
        "    Генерация подписей к графикам.\n",
        "\n",
        "    Parameters:\n",
        "    -------\n",
        "    l, k, r : array\n",
        "        Параметры модели.\n",
        "    \"\"\"\n",
        "    signature = 'l={L}, k={K}, r={R}'.format(L=l, K=k, R=r)\n",
        "    return signature\n"
      ],
      "metadata": {
        "id": "ZYYlf0HDetNq"
      },
      "execution_count": 4,
      "outputs": []
    },
    {
      "cell_type": "markdown",
      "source": [
        "**Реализация функции-решения:**"
      ],
      "metadata": {
        "id": "pPoJ9ARUfAmk"
      }
    },
    {
      "cell_type": "code",
      "source": [
        "def multisolver(L, K, R, startX, n):\n",
        "    \"\"\"\n",
        "    Последовательное построение модельных данных по списку параметров.\n",
        "\n",
        "    Parameters:\n",
        "    -------\n",
        "    L, K, R : array\n",
        "        Коэффициенты модели.\n",
        "    startX : array\n",
        "        Начальные данные модели.\n",
        "    n : int\n",
        "        Количество шагов.\n",
        "    \"\"\"\n",
        "    X = []\n",
        "    for i in range(0, len(L)):\n",
        "        x = solver(L[i], K[i], R[i], startX[:L[i]], n)\n",
        "        if x is not None:\n",
        "            X.append(x)\n",
        "    return X\n",
        "\n",
        "\n",
        "def solver(l, k, r, startX, n):\n",
        "    \"\"\"\n",
        "    Реализация схемы $ x_k - x_{k-1} = r (x_k - x_{k-l+1})(k - x_k) $.\n",
        "    После преобразования схема обретает следующий вид:\n",
        "    $$ rx_k^2 + (1 - rK - rx_{k-l+1}) + (rkx_{k-l+1} - x_{k-1}) = 0 $$\n",
        "    В качестве решения $ x_k $ принимается больший из корней квадратного уравнения.\n",
        "    В случае отрицательного дискриминанта для уравнения, алгоритм сообщает об ошибке и возвращает значение None.\n",
        "\n",
        "    Parameters:\n",
        "    -------\n",
        "    l, k, r : array\n",
        "        Параметры модели.\n",
        "    startX : array\n",
        "        Начальные модельные данные.\n",
        "    n : int\n",
        "        Количество шагов модели.\n",
        "    \"\"\"\n",
        "    x = np.zeros((l + n), dtype=float)\n",
        "    x[:len(startX)] = startX\n",
        "    for i in range(l, n + l):\n",
        "        a = r\n",
        "        b = 1 - r * k - r * x[i - l + 1]\n",
        "        c = r * k * x[i - l + 1] - x[i - 1]\n",
        "        D = b ** 2 - 4 * a * c\n",
        "        if D >= 0:\n",
        "            x[i] = (-b + np.sqrt(D)) / (2 * a)\n",
        "        else:\n",
        "            print(\"ERROR! Discriminant lower than zero.\")\n",
        "            x = None\n",
        "            break\n",
        "    return x\n"
      ],
      "metadata": {
        "id": "poCapMEdfDs7"
      },
      "execution_count": 5,
      "outputs": []
    },
    {
      "cell_type": "markdown",
      "source": [
        "**Непосредственно решение.**"
      ],
      "metadata": {
        "id": "3XfcLoCMfNR6"
      }
    },
    {
      "cell_type": "code",
      "source": [
        "def start():\n",
        "    \"\"\"\n",
        "    Base function.\n",
        "    \"\"\"\n",
        "    tested = bool(int(input()))\n",
        "\n",
        "    if tested:\n",
        "        L, K, R, startX, n = get_params()\n",
        "    else:\n",
        "        L, K, R, startX, n = read_params()\n",
        "    \n",
        "    X = multisolver(L, K, R, startX, n)\n",
        "    plotting(L, K, R, X)\n",
        "\n",
        "start()\n"
      ],
      "metadata": {
        "colab": {
          "base_uri": "https://localhost:8080/",
          "height": 283
        },
        "id": "ZQ_CLZfFfQxU",
        "outputId": "5fe3dc97-94e9-4e10-c1cc-e897ce3491a7"
      },
      "execution_count": 6,
      "outputs": [
        {
          "name": "stdout",
          "output_type": "stream",
          "text": [
            "1\n"
          ]
        },
        {
          "output_type": "display_data",
          "data": {
            "image/png": "[encoded data removed]",
            "text/plain": [
              "<Figure size 432x288 with 1 Axes>"
            ]
          },
          "metadata": {
            "needs_background": "light"
          }
        }
      ]
    }
  ]
}